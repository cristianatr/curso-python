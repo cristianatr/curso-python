{
 "cells": [
  {
   "cell_type": "markdown",
   "metadata": {},
   "source": [
    "# Funciones, o como escribir un programa"
   ]
  },
  {
   "cell_type": "markdown",
   "metadata": {},
   "source": [
    "Si nos preguntamos que es un programa, la primer respuesta que nos deberíamos dar es que es una solución a un problema que tenemos.\n",
    "\n",
    "Por lo tanto, si vamos a escribir un programa nos tenemos que preguntar que problema deseamos resolver. "
   ]
  },
  {
   "cell_type": "markdown",
   "metadata": {},
   "source": [
    "## El problema a resolver\n",
    "Supongamos que tenemos un déposito bancario de $1000 que nos da un interés del 1 por ciento por mes.\n",
    "Cuanto dinero vamos a tener después de 12 meses?"
   ]
  },
  {
   "cell_type": "markdown",
   "metadata": {},
   "source": [
    "Si este es el problema, tenemos que pensar cuál es el resultado y cuales son los datos.\n",
    "\n",
    "Resultado: la cantidad de dinero depositada al cabo de 12 meses\n",
    "Datos: la cantidad de dinero inicial, y la tasa de interés mensual\n",
    "\n",
    "Entonces, como calculamos el resultado?\n",
    "\n",
    "Lo que sabemos es que el banco promete esto:\n",
    "\n",
    "**el dinero depósitado el próximo mes va a ser el dinero depositado este mes más un monto similar determinado por la tasa de interés mensual**\n",
    "\n",
    "cantidad_siguiente = cantidad_actual + cantidad_actual * tasa_de_interes / 100\n",
    "\n",
    "Con esto vamos a escribir en python lo que sabemos hasta ahora"
   ]
  },
  {
   "cell_type": "code",
   "execution_count": null,
   "metadata": {},
   "outputs": [],
   "source": [
    "# Primera versión\n",
    "cantidad_actual = 1000\n",
    "tasa_de_interes = 1\n",
    "cantidad_siguiente = cantidad_actual + cantidad_actual * tasa_de_interes / 100\n",
    "print(cantidad_actual, ' --> ', cantidad_siguiente)"
   ]
  },
  {
   "cell_type": "markdown",
   "metadata": {},
   "source": [
    "## Soluciones posibles"
   ]
  },
  {
   "cell_type": "markdown",
   "metadata": {},
   "source": [
    "Lo que hicimos hasta ahora es para un mes, pero necesitamos hacerlo para 12 meses. Podemos repetirlo de varias formas:"
   ]
  },
  {
   "cell_type": "code",
   "execution_count": null,
   "metadata": {},
   "outputs": [],
   "source": [
    "# Código repetido manualmente\n",
    "cantidad_actual = 1000\n",
    "tasa_de_interes = 1\n",
    "# Primer mes\n",
    "cantidad_siguiente = cantidad_actual + cantidad_actual * tasa_de_interes / 100\n",
    "print(cantidad_actual, ' --> ', cantidad_siguiente)\n",
    "cantidad_actual = cantidad_siguiente\n",
    "# Segundo mes\n",
    "cantidad_siguiente = cantidad_actual + cantidad_actual * tasa_de_interes / 100\n",
    "print(cantidad_actual, ' --> ', cantidad_siguiente)\n",
    "cantidad_actual = cantidad_siguiente\n",
    "# Tercer mes\n",
    "cantidad_siguiente = cantidad_actual + cantidad_actual * tasa_de_interes / 100\n",
    "print(cantidad_actual, ' --> ', cantidad_siguiente)\n",
    "cantidad_actual = cantidad_siguiente\n",
    "# Cuarto mes\n",
    "cantidad_siguiente = cantidad_actual + cantidad_actual * tasa_de_interes / 100\n",
    "print(cantidad_actual, ' --> ', cantidad_siguiente)\n",
    "cantidad_actual = cantidad_siguiente\n",
    "# Quinto mes\n",
    "cantidad_siguiente = cantidad_actual + cantidad_actual * tasa_de_interes / 100\n",
    "print(cantidad_actual, ' --> ', cantidad_siguiente)\n",
    "cantidad_actual = cantidad_siguiente\n",
    "# Sexto mes\n",
    "cantidad_siguiente = cantidad_actual + cantidad_actual * tasa_de_interes / 100\n",
    "print(cantidad_actual, ' --> ', cantidad_siguiente)\n",
    "cantidad_actual = cantidad_siguiente\n",
    "# Septimo mes\n",
    "cantidad_siguiente = cantidad_actual + cantidad_actual * tasa_de_interes / 100\n",
    "print(cantidad_actual, ' --> ', cantidad_siguiente)\n",
    "cantidad_actual = cantidad_siguiente\n",
    "# Octavo mes\n",
    "cantidad_siguiente = cantidad_actual + cantidad_actual * tasa_de_interes / 100\n",
    "print(cantidad_actual, ' --> ', cantidad_siguiente)\n",
    "cantidad_actual = cantidad_siguiente\n",
    "# Noveno mes\n",
    "cantidad_siguiente = cantidad_actual + cantidad_actual * tasa_de_interes / 100\n",
    "print(cantidad_actual, ' --> ', cantidad_siguiente)\n",
    "cantidad_actual = cantidad_siguiente\n",
    "# Decimo mes\n",
    "cantidad_siguiente = cantidad_actual + cantidad_actual * tasa_de_interes / 100\n",
    "print(cantidad_actual, ' --> ', cantidad_siguiente)\n",
    "cantidad_actual = cantidad_siguiente\n",
    "# Undecimo mes\n",
    "cantidad_siguiente = cantidad_actual + cantidad_actual * tasa_de_interes / 100\n",
    "print(cantidad_actual, ' --> ', cantidad_siguiente)\n",
    "cantidad_actual = cantidad_siguiente\n",
    "# Duodecimo mes\n",
    "cantidad_siguiente = cantidad_actual + cantidad_actual * tasa_de_interes / 100\n",
    "print(cantidad_actual, ' --> ', cantidad_siguiente)\n",
    "cantidad_actual = cantidad_siguiente\n"
   ]
  },
  {
   "cell_type": "code",
   "execution_count": null,
   "metadata": {},
   "outputs": [],
   "source": [
    "# Código con ciclo for\n",
    "cantidad_actual = 1000\n",
    "tasa_de_interes = 1\n",
    "for mes in range(12):\n",
    "    cantidad_siguiente = cantidad_actual + cantidad_actual * tasa_de_interes / 100\n",
    "    print(cantidad_actual, ' --> ', cantidad_siguiente)\n",
    "    cantidad_actual = cantidad_siguiente"
   ]
  },
  {
   "cell_type": "code",
   "execution_count": null,
   "metadata": {},
   "outputs": [],
   "source": [
    "# Código con ciclo while\n",
    "cantidad_actual = 1000\n",
    "tasa_de_interes = 1\n",
    "mes = 0\n",
    "while mes < 12:\n",
    "    cantidad_siguiente = cantidad_actual + cantidad_actual * tasa_de_interes / 100\n",
    "    print(cantidad_actual, ' --> ', cantidad_siguiente)\n",
    "    cantidad_actual = cantidad_siguiente\n",
    "    mes += 1"
   ]
  },
  {
   "cell_type": "markdown",
   "metadata": {},
   "source": [
    "## Solución mejorada\n",
    "Las tres soluciones nos dan el mismo resultado.\n",
    "\n",
    "Ya que estamos, estaría bueno que los resultados aparezcan con mejor formato, porque con el dinero necesitamos dos decimales (por los centavos...)\n",
    "\n",
    "Para lograr esto, tenemos que escribir\n",
    "\n",
    "    print(f'{cantidad_actual:.2f} -->  {cantidad_siguiente:.2f}')"
   ]
  },
  {
   "cell_type": "code",
   "execution_count": null,
   "metadata": {},
   "outputs": [],
   "source": [
    "# Código con ciclo for\n",
    "cantidad_actual = 1000\n",
    "tasa_de_interes = 1\n",
    "for mes in range(12):\n",
    "    cantidad_siguiente = cantidad_actual + cantidad_actual * tasa_de_interes / 100\n",
    "    print(f'{cantidad_actual:.2f} -->  {cantidad_siguiente:.2f}')\n",
    "    cantidad_actual = cantidad_siguiente"
   ]
  },
  {
   "cell_type": "code",
   "execution_count": null,
   "metadata": {},
   "outputs": [],
   "source": [
    "# Código con ciclo while\n",
    "cantidad_actual = 1000\n",
    "tasa_de_interes = 1\n",
    "mes = 0\n",
    "while mes < 12:\n",
    "    cantidad_siguiente = cantidad_actual + cantidad_actual * tasa_de_interes / 100\n",
    "    print(f'{cantidad_actual:.2f} -->  {cantidad_siguiente:.2f}')\n",
    "    cantidad_actual = cantidad_siguiente\n",
    "    mes += 1\n"
   ]
  },
  {
   "cell_type": "markdown",
   "metadata": {},
   "source": [
    "## Ejercicio\n",
    "\n",
    "**Copie la solución donde el código se repite manualmente y modifique el comando print para que la tabla se imprima con dos decimales**"
   ]
  },
  {
   "cell_type": "code",
   "execution_count": null,
   "metadata": {
    "collapsed": true,
    "jupyter": {
     "outputs_hidden": true
    }
   },
   "outputs": [],
   "source": [
    "# Código repetido manualmente, y tabla de resultados impresa con dos decimales\n"
   ]
  },
  {
   "cell_type": "markdown",
   "metadata": {},
   "source": [
    "## Modificaciones!!\n",
    "\n",
    "Que pasa si queremos hacer modificaciones? Por ejemplo, si queremos incluir el mes en la impresión de la tabla."
   ]
  },
  {
   "cell_type": "code",
   "execution_count": null,
   "metadata": {},
   "outputs": [],
   "source": [
    "# Código con ciclo for\n",
    "cantidad_actual = 1000\n",
    "tasa_de_interes = 1\n",
    "for mes in range(12):\n",
    "    cantidad_siguiente = cantidad_actual + cantidad_actual * tasa_de_interes / 100\n",
    "    print(f'Mes:{mes:3d} Saldo: {cantidad_actual:.2f} -->  {cantidad_siguiente:.2f}')\n",
    "    cantidad_actual = cantidad_siguiente"
   ]
  },
  {
   "cell_type": "code",
   "execution_count": null,
   "metadata": {},
   "outputs": [],
   "source": [
    "# Código con ciclo while\n",
    "cantidad_actual = 1000\n",
    "tasa_de_interes = 1\n",
    "mes = 0\n",
    "while mes < 12:\n",
    "    cantidad_siguiente = cantidad_actual + cantidad_actual * tasa_de_interes / 100\n",
    "    print(f'Mes {mes:d} Saldo {cantidad_actual:.2f} -->  {cantidad_siguiente:.2f}')\n",
    "    cantidad_actual = cantidad_siguiente\n",
    "    mes += 1"
   ]
  },
  {
   "cell_type": "markdown",
   "metadata": {},
   "source": [
    "**Estamos mostrando el número del mes, pero sería mejor que este número comenzara en 1 y terminara en 12.\n",
    "Como lo hacemos?**"
   ]
  },
  {
   "cell_type": "code",
   "execution_count": null,
   "metadata": {},
   "outputs": [],
   "source": [
    "# Código con ciclo for\n",
    "cantidad_actual = 1000\n",
    "tasa_de_interes = 1\n",
    "inicio = 1\n",
    "fin = 13\n",
    "for mes in range(1, 13): # inicio <= mes < fin\n",
    "    cantidad_siguiente = cantidad_actual + cantidad_actual * tasa_de_interes / 100\n",
    "    print(f'Mes: {mes:3d} Saldo: {cantidad_actual:.2f} -->  {cantidad_siguiente:.2f}')\n",
    "    cantidad_actual = cantidad_siguiente"
   ]
  },
  {
   "cell_type": "code",
   "execution_count": null,
   "metadata": {
    "collapsed": true,
    "jupyter": {
     "outputs_hidden": true
    }
   },
   "outputs": [],
   "source": [
    "# Pregunta !!!\n",
    "\n",
    "# Modifique el código anterior, empleando ahora un ciclo while \n",
    "# e indique las modificaciones\n",
    "\n",
    "# Código con ciclo while\n",
    "\n"
   ]
  },
  {
   "cell_type": "markdown",
   "metadata": {},
   "source": [
    "## Nuestras propias funciones\n",
    "\n",
    "Hasta ahora hemos usado funciones provistas por Python (type, print, len, assert), pero también es posible crear nuestras propias funciones que podemos usar para simplificar nuestros programas.\n"
   ]
  },
  {
   "source": [
    "### Definición de una función\n",
    "\n",
    "def nombreFuncion(a,b,c,...):\n",
    "\n",
    "\n",
    "&nbsp;&nbsp;&nbsp; ...\n",
    "\n",
    "&nbsp;&nbsp;&nbsp; lo que haga mi función utilizando a,b,c,...\n",
    "\n",
    "&nbsp;&nbsp;&nbsp; ...\n",
    "\n",
    "\n",
    "return z,x,y,...\n",
    "\n",
    "\n",
    "Parámetros de entrada (a,b,c,...): Los parámetros de entrada son variables de la función que en este momento de definición de la función no tienen valor definido, pero si lo tendra cuando llamemos la función en nuestro programa principal. La función podria no tener parámetros de entrada.\n",
    "\n",
    "\n",
    "Parámetros de salida (z,x,y,...): Los parámetros de salida son variables que la función devolvera a nuestro programa principal, en el mismo la función debe estar asignada a una variable. La función puede no tener parámetros de salida.\n",
    "\n",
    "Veamos unos ejemplos:\n"
   ],
   "cell_type": "markdown",
   "metadata": {}
  },
  {
   "cell_type": "code",
   "execution_count": null,
   "metadata": {},
   "outputs": [],
   "source": [
    "def sumar(a,b):\n",
    "    c=a+b\n",
    "    return c\n",
    "\n",
    "#Si ejecutamos no pasa nada...\n",
    "#Esto ocurre por que aqui solo estamos definiendo la función para poder usarla mas adelante. \n",
    "#Ahora llamemos al a función"
   ]
  },
  {
   "cell_type": "code",
   "execution_count": null,
   "metadata": {},
   "outputs": [],
   "source": [
    "#Ahora debemos definir los parámetros de entrada\n",
    "#Como nuestra función devuelve un valor a una variable le asignamos la función\n",
    "resultado=sumar(2,4)\n",
    "\n",
    "print(f\"El resultado de la suma es {resultado}\")"
   ]
  },
  {
   "cell_type": "code",
   "execution_count": null,
   "metadata": {},
   "outputs": [],
   "source": [
    "def mensajeSaludo():\n",
    "    print(\"Hello world!\")\n",
    "    return\n",
    "\n",
    "#Sin parámetros"
   ]
  },
  {
   "cell_type": "code",
   "execution_count": null,
   "metadata": {},
   "outputs": [],
   "source": [
    "mensajeSaludo()"
   ]
  },
  {
   "cell_type": "code",
   "execution_count": null,
   "metadata": {},
   "outputs": [],
   "source": [
    "saludo=mensajeSaludo()\n",
    "\n",
    "print(saludo)\n",
    "#none por que la función saludo, no devuelve ningun valor, unicamente imprime Hello world."
   ]
  },
  {
   "cell_type": "code",
   "execution_count": null,
   "metadata": {},
   "outputs": [],
   "source": []
  },
  {
   "cell_type": "code",
   "execution_count": null,
   "metadata": {
    "collapsed": true,
    "jupyter": {
     "outputs_hidden": true
    }
   },
   "outputs": [],
   "source": [
    "# Se puede agregar mensajes para saber como funciona la función\n",
    "\n",
    "def leer_float(mensaje, en_error):\n",
    "    \"\"\"Trata de leer un número float desde el teclado,\n",
    "       y en caso de error devuelve un valor predeterminado.\n",
    "       \n",
    "       La función input (línea A) hace aparecer una forma de entrada de datos\n",
    "       donde el usuario puede escribir caracteres. \n",
    "       Si estos caracteres forman un número float, \n",
    "       en la linea B la variable entrada se \"transforma\" en un número float\n",
    "       que queda asignado a la variable valor.\n",
    "       Si los caracteres ingresados no forman un número float, \n",
    "       se levanta o anuncia una excepción ValueError y en ese caso\n",
    "       el valor de la variable en_error queda asignado a la variable valor.\n",
    "       \n",
    "       Parameters:\n",
    "           mensaje    (str): mensaje para el usuario\n",
    "           en_error (float): valor para retornar en caso de error\n",
    "       Returns:\n",
    "           float:     valor leido de teclado o en_error\n",
    "    \"\"\"\n",
    "    print(mensaje)\n",
    "    entrada = input()  # línea A\n",
    "    try:\n",
    "        valor = float(entrada) # línea B\n",
    "    except ValueError:\n",
    "        valor = en_error\n",
    "    return valor"
   ]
  },
  {
   "cell_type": "code",
   "execution_count": null,
   "metadata": {},
   "outputs": [],
   "source": [
    "help(leer_float) # Cada función puede tener su propio docstring,\n",
    "                 # que se visualiza con la función help de python"
   ]
  },
  {
   "cell_type": "code",
   "execution_count": null,
   "metadata": {},
   "outputs": [],
   "source": [
    "leer_float('Ingrese un numero flotante correcto', 0.0) # ingresar un valor \"correcto\" (Por ejemplo 4.6)"
   ]
  },
  {
   "cell_type": "code",
   "execution_count": null,
   "metadata": {},
   "outputs": [],
   "source": [
    "leer_float('Ingrese un numero flotante incorrecto', 0.0) # ingresar un valor \"incorrecto\" (Por ejemplo kl)"
   ]
  },
  {
   "cell_type": "code",
   "execution_count": null,
   "metadata": {},
   "outputs": [],
   "source": [
    "help(len)"
   ]
  },
  {
   "cell_type": "code",
   "execution_count": null,
   "metadata": {},
   "outputs": [],
   "source": [
    "notas=[7,5,9,10,4]\n",
    "\n",
    "prom=promedio(notas)\n",
    "print(f\"El promedio de las notas {notas} es {prom}\")\n",
    "\n",
    "def promedio(lista):\n",
    "    suma=0\n",
    "    for i in lista:\n",
    "        suma+=i\n",
    "    return suma/len(lista)\n",
    "\n",
    "#La funcion debe estar definida antes de ser llamada!"
   ]
  },
  {
   "cell_type": "code",
   "execution_count": null,
   "metadata": {},
   "outputs": [],
   "source": [
    "#Si desamos mantener nuestro codigo pricipal al prinicipio del código, una solución es definir una función main, y llamarla al final del código\n",
    "def main():\n",
    "    notas=[7,5,9,10,4]\n",
    "    prom=promedio(notas)\n",
    "    print(f\"El promedio de las notas {notas} es {prom}\")\n",
    "\n",
    "def promedio(lista):\n",
    "    suma=0\n",
    "    for i in lista:\n",
    "        suma+=i\n",
    "    return suma/len(lista)\n",
    "\n",
    "main()"
   ]
  },
  {
   "cell_type": "code",
   "execution_count": null,
   "metadata": {},
   "outputs": [],
   "source": [
    "#Funciones recursivas\n",
    "\n",
    "def factorial(n):\n",
    "  if n<=1:\n",
    "    return 1\n",
    "  else:\n",
    "    return n*factorial(n-1)\n",
    "\n",
    "print(factorial(4))"
   ]
  },
  {
   "cell_type": "code",
   "execution_count": null,
   "metadata": {
    "collapsed": true,
    "jupyter": {
     "outputs_hidden": true
    }
   },
   "outputs": [],
   "source": [
    "def Fibonacci(n):\n",
    "    f0, f1 = 1, 1\n",
    "    for _ in range(n):\n",
    "        yield f0\n",
    "        f0, f1 = f1, f0+f1"
   ]
  },
  {
   "cell_type": "code",
   "execution_count": null,
   "metadata": {},
   "outputs": [],
   "source": [
    "a=Fibonacci(5)\n",
    "\n",
    "print(a)\n",
    "\n",
    "for i in a:\n",
    "    print(i)"
   ]
  }
 ],
 "metadata": {
  "kernelspec": {
   "name": "Python 3.8.5 64-bit",
   "display_name": "Python 3.8.5 64-bit",
   "metadata": {
    "interpreter": {
     "hash": "12721f973ae957bf9ea96b3fe9dc08a6cf326dcbb2ff9bbed338185312888558"
    }
   }
  },
  "language_info": {
   "codemirror_mode": {
    "name": "ipython",
    "version": 3
   },
   "file_extension": ".py",
   "mimetype": "text/x-python",
   "name": "python",
   "nbconvert_exporter": "python",
   "pygments_lexer": "ipython3",
   "version": "3.8.5-final"
  }
 },
 "nbformat": 4,
 "nbformat_minor": 4
}