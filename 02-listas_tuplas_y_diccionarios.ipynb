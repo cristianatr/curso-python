{
 "cells": [
  {
   "cell_type": "markdown",
   "metadata": {},
   "source": [
    "# Listas, tuplas y diccionarios"
   ]
  },
  {
   "cell_type": "markdown",
   "metadata": {
    "collapsed": true
   },
   "source": [
    "## Otros tipos de variables\n",
    "\n",
    "Hasta ahora vimos variables con un solo valor, pero es posible crear variables con más de un valor por identificador.\n",
    "\n",
    "Las variables pueden ser de los tipos primitivos o elementales (como **int**, *float** y **bool**) o de un tipo compuesto (**str**, **list** o **dict**, entre otros)."
   ]
  },
  {
   "cell_type": "markdown",
   "metadata": {},
   "source": [
    "### tipo list, o lista"
   ]
  },
  {
   "cell_type": "code",
   "execution_count": null,
   "metadata": {
    "collapsed": true
   },
   "outputs": [],
   "source": [
    "# Listas\n",
    "a = [1, 2, -1, -4]\n",
    "b = [0.4, 0.7]"
   ]
  },
  {
   "cell_type": "code",
   "execution_count": null,
   "metadata": {},
   "outputs": [],
   "source": [
    "a"
   ]
  },
  {
   "cell_type": "code",
   "execution_count": null,
   "metadata": {},
   "outputs": [],
   "source": [
    "b"
   ]
  },
  {
   "cell_type": "code",
   "execution_count": null,
   "metadata": {},
   "outputs": [],
   "source": [
    "a[0] # Podemos indexar las listas, para recuperar los diferentes valores"
   ]
  },
  {
   "cell_type": "code",
   "execution_count": null,
   "metadata": {},
   "outputs": [],
   "source": [
    "b[1]"
   ]
  },
  {
   "cell_type": "code",
   "execution_count": null,
   "metadata": {},
   "outputs": [],
   "source": [
    "a[2]"
   ]
  },
  {
   "cell_type": "code",
   "execution_count": null,
   "metadata": {},
   "outputs": [],
   "source": [
    "a[2] = 1 # Las listas se pueden modificar\n",
    "a[2]"
   ]
  },
  {
   "cell_type": "code",
   "execution_count": null,
   "metadata": {},
   "outputs": [],
   "source": [
    "b[2]\n",
    "\n",
    "#Que ocurre?"
   ]
  },
  {
   "cell_type": "code",
   "execution_count": null,
   "metadata": {
    "collapsed": true
   },
   "outputs": [],
   "source": [
    "# Las listas pueden ser \"mixtas\"\n",
    "c = [1, 2, 3.14, 'a', True]\n",
    "\n",
    "print(c)"
   ]
  },
  {
   "cell_type": "code",
   "execution_count": null,
   "metadata": {},
   "outputs": [],
   "source": [
    "c[0]"
   ]
  },
  {
   "cell_type": "code",
   "execution_count": null,
   "metadata": {},
   "outputs": [],
   "source": [
    "c[2]"
   ]
  },
  {
   "cell_type": "code",
   "execution_count": null,
   "metadata": {},
   "outputs": [],
   "source": [
    "c[4]"
   ]
  },
  {
   "cell_type": "code",
   "execution_count": null,
   "metadata": {},
   "outputs": [],
   "source": [
    "# Las listas pueden crearse y \"llenarse\"\n",
    "d = list()  #Creamos una lista vacia\n",
    "print(d)\n",
    "\n",
    "d.append(1)\n",
    "print(d)\n",
    "\n",
    "d.append(0)\n",
    "d.append(-1)\n",
    "print(d)"
   ]
  },
  {
   "cell_type": "code",
   "execution_count": null,
   "metadata": {},
   "outputs": [],
   "source": [
    "# También pueden \"borrarse\"\n",
    "print(d)\n",
    "\n",
    "d.remove(1)\n",
    "print(d)\n",
    "\n",
    "#Que pasa si ejecutamos nuevamente esta celda?"
   ]
  },
  {
   "cell_type": "code",
   "execution_count": null,
   "metadata": {},
   "outputs": [],
   "source": [
    "# Podemos observar la longitud de una lista\n",
    "len(d)"
   ]
  },
  {
   "cell_type": "code",
   "execution_count": null,
   "metadata": {},
   "outputs": [],
   "source": [
    "print(d)\n",
    "d.append(1.1)\n",
    "print(d)\n",
    "d.remove(1.1)\n",
    "print(d)\n"
   ]
  },
  {
   "cell_type": "code",
   "execution_count": null,
   "metadata": {},
   "outputs": [],
   "source": [
    "c=[1,2,3,1,2,5,3,2]\n",
    "print(c)\n",
    "\n",
    "c.pop() \n",
    "#Elimina el ultimo elemento en la lista\n",
    "print(c)\n"
   ]
  },
  {
   "cell_type": "code",
   "execution_count": null,
   "metadata": {},
   "outputs": [],
   "source": [
    "print(c)\n",
    "\n",
    "c.remove(1)\n",
    "print(c)\n",
    "c.remove(1)\n",
    "\n",
    "print(c)\n"
   ]
  },
  {
   "cell_type": "code",
   "execution_count": null,
   "metadata": {},
   "outputs": [],
   "source": [
    "print(c)\n",
    "\n",
    "c.remove(1)\n",
    "\n",
    "#Que pasa si ejecutamos esta celda?"
   ]
  },
  {
   "cell_type": "code",
   "execution_count": null,
   "metadata": {},
   "outputs": [],
   "source": [
    "d=[0,2,4,6]\n",
    "\n",
    "print(d)\n",
    "\n",
    "del d[2]\n",
    "#d[n] elimina el elemento en la posicion n\n",
    "print(d)"
   ]
  },
  {
   "cell_type": "code",
   "execution_count": null,
   "metadata": {},
   "outputs": [],
   "source": [
    "#Si las listas contienen datos de mismo tipo pueden ordenarse\n",
    "\n",
    "numeros=[-2,1,42,6,23,-35]\n",
    "\n",
    "numeros.sort()\n",
    "\n",
    "print(f\"Los numeros son {numeros}\")"
   ]
  },
  {
   "cell_type": "code",
   "execution_count": null,
   "metadata": {},
   "outputs": [],
   "source": [
    "nombres=[\"Juan\",\"Pedro\",\"Ana\",\"Xavier\",\"Brian\"]\n",
    "\n",
    "#Se pueden ordenar al reves\n",
    "\n",
    "nombres.sort(reverse=True)\n",
    "\n",
    "print(nombres)"
   ]
  },
  {
   "cell_type": "code",
   "execution_count": null,
   "metadata": {},
   "outputs": [],
   "source": [
    "# Ejemplo lista y ciclo for\n",
    "digitos = [0, 2, 4, 6, 8, 10, 12, 14,16, 18]\n",
    "\n",
    "\n",
    "for k in range(10):\n",
    "    print(k, digitos[k])\n",
    "\n",
    "print('------')\n",
    "\n",
    "#Una forma facil de recorrer listas\n",
    "for d in digitos:\n",
    "    print(d)\n",
    "\n",
    "\n"
   ]
  },
  {
   "cell_type": "code",
   "execution_count": null,
   "metadata": {},
   "outputs": [],
   "source": [
    "# Ejemplo lista y ciclo while\n",
    "k = 0\n",
    "while k < len(digitos):\n",
    "    print(digitos[k])\n",
    "    k = k + 1 #Importante actualizar k!"
   ]
  },
  {
   "cell_type": "code",
   "execution_count": null,
   "metadata": {},
   "outputs": [],
   "source": [
    "# Ejemplo lista y ciclo while\n",
    "k = 0\n",
    "while k < len(digitos):\n",
    "    print(digitos[k])\n",
    "    k += 1 # Lo mismo que k = k + 1"
   ]
  },
  {
   "cell_type": "code",
   "execution_count": null,
   "metadata": {},
   "outputs": [],
   "source": [
    "# Pregunta !!!\n",
    "\n",
    "# Escriba una lista con cinco elementos enteros\n",
    "\n",
    "a = []\n",
    "len(a) == 5 # Longitud de a es igual a 5??"
   ]
  },
  {
   "cell_type": "code",
   "execution_count": null,
   "metadata": {},
   "outputs": [],
   "source": [
    "print(nombres)\n",
    "\n",
    "#Para determinar si un elemento esta en la lista\n",
    "print(f\"{'Pedro' in nombres}\")\n",
    "\n",
    "#Devuelve un booleano\n",
    "\n",
    "print(f\"{'xavier' in nombres}\")"
   ]
  },
  {
   "cell_type": "code",
   "execution_count": null,
   "metadata": {},
   "outputs": [],
   "source": [
    "if \"Ana\" in nombres:\n",
    "    print(\"Ana esta presente\")\n",
    "else:\n",
    "    print(\"Ana esta ausente\")\n"
   ]
  },
  {
   "cell_type": "markdown",
   "metadata": {},
   "source": [
    "### Tuplas"
   ]
  },
  {
   "cell_type": "markdown",
   "metadata": {},
   "source": [
    "De la misma forma que construimos listas de valores, podemos construir tuplas."
   ]
  },
  {
   "cell_type": "code",
   "execution_count": null,
   "metadata": {
    "collapsed": true
   },
   "outputs": [],
   "source": [
    "# Listas de valores\n",
    "a = (1, 2, -1, -4)\n",
    "b = (0.4, 0.7)"
   ]
  },
  {
   "cell_type": "code",
   "execution_count": null,
   "metadata": {},
   "outputs": [],
   "source": [
    "a"
   ]
  },
  {
   "cell_type": "code",
   "execution_count": null,
   "metadata": {},
   "outputs": [],
   "source": [
    "b"
   ]
  },
  {
   "cell_type": "markdown",
   "metadata": {},
   "source": [
    "**Cual es la diferencia entre listas y tuplas?**\n",
    "\n",
    "Las listas pueden modificarse, las tuplas no."
   ]
  },
  {
   "cell_type": "code",
   "execution_count": null,
   "metadata": {},
   "outputs": [],
   "source": [
    "una_lista = [1, 2, 3]\n",
    "una_tupla = (1, 2, 3)\n",
    "una_lista, una_tupla"
   ]
  },
  {
   "cell_type": "code",
   "execution_count": null,
   "metadata": {},
   "outputs": [],
   "source": [
    "una_lista[0] = -1\n",
    "una_lista.append(4)\n",
    "una_lista"
   ]
  },
  {
   "cell_type": "code",
   "execution_count": null,
   "metadata": {},
   "outputs": [],
   "source": [
    "try:\n",
    "    una_tupla[0] = -1 # Esto está mal\n",
    "except TypeError:\n",
    "    print('TypeError')"
   ]
  },
  {
   "cell_type": "code",
   "execution_count": null,
   "metadata": {},
   "outputs": [],
   "source": [
    "try:\n",
    "    una_tupla.append(4) # Esto está mal\n",
    "except AttributeError:\n",
    "    print('AttributeError')"
   ]
  },
  {
   "cell_type": "markdown",
   "metadata": {},
   "source": [
    "## Diccionarios"
   ]
  },
  {
   "cell_type": "markdown",
   "metadata": {},
   "source": [
    "Un diccionario en Python es una forma de manejar datos. Para entenderla, podemos pensar en un diccionario común, que basicamente es una lista de palabras y definiciones asociadas.\n",
    "\n",
    "Un diccionario en python es un conjunto de claves (en inglés se usa la palabra keys) y valores asociados. Cada clave es única."
   ]
  },
  {
   "cell_type": "code",
   "execution_count": null,
   "metadata": {
    "collapsed": true
   },
   "outputs": [],
   "source": [
    "a = {}\n",
    "a[1] = '1'            # La clave es 1, el valor asociado es '1'\n",
    "a[2] = '2'            # La clave es 2\n",
    "a['red'] = 'rojo'\n",
    "a['blue'] = 'azul'\n",
    "a['green'] = 'verde'"
   ]
  },
  {
   "cell_type": "code",
   "execution_count": null,
   "metadata": {},
   "outputs": [],
   "source": [
    "a"
   ]
  },
  {
   "cell_type": "code",
   "execution_count": null,
   "metadata": {},
   "outputs": [],
   "source": [
    "# keys o claves\n",
    "for k in a.keys():\n",
    "    print(k, type(k))\n",
    "# values o valores\n",
    "for v in a.values():\n",
    "    print(v, type(v))"
   ]
  },
  {
   "cell_type": "code",
   "execution_count": null,
   "metadata": {},
   "outputs": [],
   "source": [
    "for k, v in a.items():\n",
    "    print(k, ':', v)"
   ]
  },
  {
   "cell_type": "code",
   "execution_count": null,
   "metadata": {},
   "outputs": [],
   "source": [
    "a['red']"
   ]
  },
  {
   "cell_type": "code",
   "execution_count": null,
   "metadata": {},
   "outputs": [],
   "source": [
    "# Es posible cambiar el valor asociado a una clave\n",
    "a['red'] = '<ROJO>'\n",
    "a['red']"
   ]
  },
  {
   "cell_type": "code",
   "execution_count": null,
   "metadata": {},
   "outputs": [],
   "source": [
    "# Podemos borrar una clave y su valor\n",
    "del a['red']\n",
    "try:\n",
    "    a['red'] # esto está mal\n",
    "except KeyError as message:\n",
    "    print('KeyError', message)"
   ]
  },
  {
   "cell_type": "markdown",
   "metadata": {},
   "source": [
    "## La función assert\n",
    "\n",
    "La función assert verifica que su argumento sea True. En caso de ser False, anuncia una excepción"
   ]
  },
  {
   "cell_type": "code",
   "execution_count": null,
   "metadata": {
    "collapsed": true
   },
   "outputs": [],
   "source": [
    "assert(True) # no pasa nada"
   ]
  },
  {
   "cell_type": "code",
   "execution_count": null,
   "metadata": {},
   "outputs": [],
   "source": [
    "assert(False)"
   ]
  },
  {
   "cell_type": "code",
   "execution_count": null,
   "metadata": {},
   "outputs": [],
   "source": [
    "try:\n",
    "    assert(False)  # esto está mal\n",
    "except AssertionError:\n",
    "    print('Error')"
   ]
  },
  {
   "cell_type": "markdown",
   "metadata": {},
   "source": [
    "## La función assert sirve para verificar que los programas \"funcionan\" bien!"
   ]
  },
  {
   "cell_type": "code",
   "execution_count": null,
   "metadata": {
    "collapsed": true
   },
   "outputs": [],
   "source": [
    "## Crear una lista y agregarle cinco números\n",
    "a = [0,1,2,3,4]\n",
    "## otra forma de hacer lo mismo\n",
    "b = list()\n",
    "for k in range(5):\n",
    "    b.append(k)\n",
    "a, b\n",
    "assert(len(a) == 5) # esto es una aserción \n",
    "assert(len(b) == 5) # esto es una aserción"
   ]
  },
  {
   "cell_type": "code",
   "execution_count": null,
   "metadata": {
    "collapsed": true
   },
   "outputs": [],
   "source": [
    "# Pregunta !!!\n",
    "\n",
    "# Copiar la celda anterior y modificar la longitud de las listas para que fallen las aserciones."
   ]
  }
 ],
 "metadata": {
  "kernelspec": {
   "name": "Python 3.8.5 64-bit",
   "display_name": "Python 3.8.5 64-bit",
   "metadata": {
    "interpreter": {
     "hash": "12721f973ae957bf9ea96b3fe9dc08a6cf326dcbb2ff9bbed338185312888558"
    }
   }
  },
  "language_info": {
   "codemirror_mode": {
    "name": "ipython",
    "version": 3
   },
   "file_extension": ".py",
   "mimetype": "text/x-python",
   "name": "python",
   "nbconvert_exporter": "python",
   "pygments_lexer": "ipython3",
   "version": "3.8.5-final"
  }
 },
 "nbformat": 4,
 "nbformat_minor": 2
}