{
  "nbformat": 4,
  "nbformat_minor": 0,
  "metadata": {
    "kernelspec": {
      "name": "Python 3.8.5 64-bit",
      "display_name": "Python 3.8.5 64-bit",
      "metadata": {
        "interpreter": {
          "hash": "12721f973ae957bf9ea96b3fe9dc08a6cf326dcbb2ff9bbed338185312888558"
        }
      }
    },
    "language_info": {
      "codemirror_mode": {
        "name": "ipython",
        "version": 3
      },
      "file_extension": ".py",
      "mimetype": "text/x-python",
      "name": "python",
      "nbconvert_exporter": "python",
      "pygments_lexer": "ipython3",
      "version": "3.8.5-final"
    },
    "colab": {
      "name": "Copy of 01-ejercicios.ipynb",
      "provenance": []
    }
  },
  "cells": [
    {
      "cell_type": "markdown",
      "metadata": {
        "id": "KMO3_tWlvN0I"
      },
      "source": [
        "# Ejercicios"
      ]
    },
    {
      "cell_type": "markdown",
      "metadata": {
        "id": "GWu7A0WUvN0K"
      },
      "source": [
        "1. En estos ejercicios, debemos reemplazar el carácter '_' por una constante que haga que el resultado de cada celda tenga el valor True\n",
        "\n",
        "2. En cada ejercicio, agregar como comentario el tipo de la constante con la que se reemplaza el carácter '_'\n",
        "\n",
        "3. Para ejecutar cada celda, presionar Mayúscula + Entrada (Shift + Enter)\n",
        "\n",
        "4. Al final del cuaderno, agregar una celda markdown con un título 'Datos personales' con las letras más grandes posibles y datos personales (nombre y apellido, dni, fecha de nacimiento) con subtítulos adecuados. Los datos no tienen que ser verdaderos."
      ]
    },
    {
      "cell_type": "code",
      "metadata": {
        "id": "M7PMAWAtvN0L"
      },
      "source": [
        "type(_) == int"
      ],
      "execution_count": null,
      "outputs": []
    },
    {
      "cell_type": "code",
      "metadata": {
        "id": "CVs4n8zuvN0P"
      },
      "source": [
        "type(_) == float"
      ],
      "execution_count": null,
      "outputs": []
    },
    {
      "cell_type": "code",
      "metadata": {
        "id": "GB7o2wxJvN0T"
      },
      "source": [
        "type(_) == str"
      ],
      "execution_count": null,
      "outputs": []
    },
    {
      "cell_type": "code",
      "metadata": {
        "id": "TLElUUAQvN0W"
      },
      "source": [
        "type(_) == bool"
      ],
      "execution_count": null,
      "outputs": []
    },
    {
      "cell_type": "code",
      "metadata": {
        "id": "VIQky6tdvN0Y"
      },
      "source": [
        "type(_) == tuple"
      ],
      "execution_count": null,
      "outputs": []
    },
    {
      "cell_type": "code",
      "metadata": {
        "id": "ldne5v3XvN0c"
      },
      "source": [
        "type(_) == list"
      ],
      "execution_count": null,
      "outputs": []
    },
    {
      "cell_type": "code",
      "metadata": {
        "id": "JT8KJTJKvN0f"
      },
      "source": [
        "(1 > 0) == (2 == _)"
      ],
      "execution_count": null,
      "outputs": []
    },
    {
      "cell_type": "code",
      "metadata": {
        "id": "8wAWON5R1ISP"
      },
      "source": [
        "type(3 / 2) == _"
      ],
      "execution_count": null,
      "outputs": []
    },
    {
      "cell_type": "code",
      "metadata": {
        "id": "QtQcnBLU1MW_"
      },
      "source": [
        "type(3 // 2) == _"
      ],
      "execution_count": null,
      "outputs": []
    },
    {
      "cell_type": "code",
      "metadata": {
        "id": "TUCWEjfk1Qq5"
      },
      "source": [
        "(3 // 2) == _"
      ],
      "execution_count": null,
      "outputs": []
    },
    {
      "cell_type": "code",
      "metadata": {
        "id": "6EyH8rZTvN0i"
      },
      "source": [
        "entrada = input(\"Ingrese un numero entero\")\n",
        "numero = int(entrada)\n",
        "\n",
        "if(_):                            # Modificar esta linea  \n",
        "    print(f\"{numero:d} es impar\")\n",
        "else:\n",
        "    print(f\"{numero:d} es impar\")"
      ],
      "execution_count": null,
      "outputs": []
    },
    {
      "cell_type": "code",
      "metadata": {
        "id": "fiC53q6hvN0k"
      },
      "source": [
        "_ = None\n",
        "entrada = input(\"Ingrese un número entero que será el límite inferior\")\n",
        "assert(type(entrada) == _) # Modificar esta línea\n",
        "limite_inferior = int(entrada)\n",
        "entrada = input(\"Ingrese un número entero que será el límite superior\")\n",
        "assert(type(entrada) == _) # Modificar esta línea\n",
        "limite_superior = int(entrada)\n",
        "if (_):  # Modificar esta linea\n",
        "    mensaje = f'Error: {limite_inferior:d} > {limite_superior:d}'\n",
        "    raise ValueError(mensaje)\n",
        "entrada = input(\"Ingrese un número entero\")\n",
        "numero = int(entrada)\n",
        "while (limite_inferior <= numero <= limite_superior):\n",
        "    mensaje = f'{limite_inferior:d} <= {numero:d} <= {limite_superior:d}'\n",
        "    print(mensaje)\n",
        "    entrada = input(\"Ingrese un número entero\")\n",
        "    numero = int(entrada)"
      ],
      "execution_count": null,
      "outputs": []
    },
    {
      "cell_type": "code",
      "metadata": {
        "id": "yWSflQzgvN0m"
      },
      "source": [
        "for x in range(_):   # Modificar esta linea\n",
        "    print(x)\n",
        "    y = x\n",
        "y == 3"
      ],
      "execution_count": null,
      "outputs": []
    },
    {
      "cell_type": "code",
      "metadata": {
        "id": "yeFmaZyGvN0p"
      },
      "source": [
        "counter = 0\n",
        "for k in range(_):   # Modificar esta linea\n",
        "    counter += k\n",
        "counter == 6"
      ],
      "execution_count": null,
      "outputs": []
    },
    {
      "cell_type": "code",
      "metadata": {
        "id": "NV4iWg8zvN0r"
      },
      "source": [
        "suma = 0\n",
        "N = ___                 # Modificar esta linea\n",
        "for i in range(N):\n",
        "    suma += i\n",
        "suma == 10 * 9 / 2 # N * (N - 1) / 2"
      ],
      "execution_count": null,
      "outputs": []
    },
    {
      "cell_type": "code",
      "metadata": {
        "id": "0s0YUVF2vN0t"
      },
      "source": [
        "for i in range(_):\n",
        "    if i % 2 == 0: # Por favor, averiguar que hace la operación %\n",
        "        print(i)\n",
        "i == 9\n"
      ],
      "execution_count": null,
      "outputs": []
    },
    {
      "cell_type": "code",
      "execution_count": null,
      "metadata": {},
      "outputs": [],
      "source": [
        "suma = 0\n",
        "for i in range(10):\n",
        "    suma += i\n",
        "sumb = 0\n",
        "j = 0\n",
        "while j < _:    # Modificar esta linea\n",
        "    sumb += j\n",
        "    j=_\n",
        "suma == sumb"
      ]
    }
  ]
}