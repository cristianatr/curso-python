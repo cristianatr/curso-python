{
 "cells": [
  {
   "cell_type": "markdown",
   "metadata": {},
   "source": [
    "# Ejercicios"
   ]
  },
  {
   "cell_type": "markdown",
   "metadata": {},
   "source": [
    "1. En estos ejercicios, debemos reemplazar el carácter '_' por una constante que haga que el resultado de cada celda tenga el valor True\n",
    "\n",
    "2. En cada ejercicio, agregar como comentario el tipo de la constante con la que se reemplaza el carácter '_'\n",
    "\n",
    "3. Para ejecutar cada celda, presionar Mayúscula + Entrada (Shift + Enter)\n",
    "\n",
    "4. Al final del cuaderno, agregar una celda markdown con un título 'Datos personales' con las letras más grandes posibles y datos personales (nombre y apellido, dni, fecha de nacimiento) con subtítulos adecuados. Los datos no tienen que ser verdaderos."
   ]
  },
  {
   "cell_type": "code",
   "execution_count": null,
   "metadata": {},
   "outputs": [],
   "source": [
    "type(_) == int"
   ]
  },
  {
   "cell_type": "code",
   "execution_count": null,
   "metadata": {},
   "outputs": [],
   "source": [
    "type(_) == float"
   ]
  },
  {
   "cell_type": "code",
   "execution_count": null,
   "metadata": {},
   "outputs": [],
   "source": [
    "type(_) == str"
   ]
  },
  {
   "cell_type": "code",
   "execution_count": null,
   "metadata": {},
   "outputs": [],
   "source": [
    "type(_) == bool"
   ]
  },
  {
   "cell_type": "code",
   "execution_count": null,
   "metadata": {},
   "outputs": [],
   "source": [
    "type(_) == tuple"
   ]
  },
  {
   "cell_type": "code",
   "execution_count": null,
   "metadata": {},
   "outputs": [],
   "source": [
    "type(_) == list"
   ]
  },
  {
   "cell_type": "code",
   "execution_count": null,
   "metadata": {},
   "outputs": [],
   "source": [
    "(1 > 0) == (2 == _)"
   ]
  },
  {
   "cell_type": "code",
   "execution_count": null,
   "metadata": {},
   "outputs": [],
   "source": [
    "numero=int(input(\"Ingrese un numero entero\"))\n",
    "\n",
    "if(___):\n",
    "    print(f\"El {numero} es par\")\n",
    "else:\n",
    "    print(f\"El {numero} es impar\")"
   ]
  },
  {
   "cell_type": "code",
   "execution_count": null,
   "metadata": {},
   "outputs": [],
   "source": [
    "nota=int(input(\"Ingrese la nota del alumno: \"))\n",
    "\n",
    "if(__):\n",
    "  print(\"El alumno desaprobo\")\n",
    "elif(__ ):\n",
    "  print(\"El alumno aprobo\")\n",
    "else:\n",
    "  print(\"El alumno se encuentra en regimen de promoción\")"
   ]
  },
  {
   "cell_type": "code",
   "execution_count": null,
   "metadata": {},
   "outputs": [],
   "source": [
    "for x in range(_):   # Modificar esta linea\n",
    "    print(x)\n",
    "    y = x\n",
    "y == 3"
   ]
  },
  {
   "cell_type": "code",
   "execution_count": null,
   "metadata": {},
   "outputs": [],
   "source": [
    "counter = 0\n",
    "for k in range(_):   # Modificar esta linea\n",
    "    counter += k\n",
    "counter == 6"
   ]
  },
  {
   "cell_type": "code",
   "execution_count": null,
   "metadata": {},
   "outputs": [],
   "source": [
    "suma = 0\n",
    "N = ___                 # Modificar esta linea\n",
    "for i in range(N):\n",
    "    suma += i\n",
    "suma == 10 * 9 / 2 # N * (N -1) / 2"
   ]
  },
  {
   "cell_type": "code",
   "execution_count": null,
   "metadata": {},
   "outputs": [],
   "source": [
    "for i in range(_):\n",
    "    if i % 2 == 0: # Por favor, averiguar que hace la operación %\n",
    "        print(i)\n",
    "i == 9\n"
   ]
  },
  {
   "cell_type": "code",
   "execution_count": null,
   "metadata": {},
   "outputs": [],
   "source": [
    "suma = 0\n",
    "for i in range(10):\n",
    "    suma += i\n",
    "sumb = 0\n",
    "j = 0\n",
    "while j < _:    # Modificar esta linea\n",
    "    sumb += j\n",
    "suma == sumb"
   ]
  }
 ],
 "metadata": {
  "kernelspec": {
   "display_name": "Python 3",
   "language": "python",
   "name": "python3"
  },
  "language_info": {
   "codemirror_mode": {
    "name": "ipython",
    "version": 3
   },
   "file_extension": ".py",
   "mimetype": "text/x-python",
   "name": "python",
   "nbconvert_exporter": "python",
   "pygments_lexer": "ipython3",
   "version": "3.8.5"
  }
 },
 "nbformat": 4,
 "nbformat_minor": 4
}